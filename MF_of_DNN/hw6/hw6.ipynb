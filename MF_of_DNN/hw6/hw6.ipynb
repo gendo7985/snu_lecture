{
 "cells": [
  {
   "cell_type": "markdown",
   "metadata": {},
   "source": [
    "# Mathematical Foundations on Deep Neural Network\n",
    "## Homework #6\n",
    "### 2017-11362 박건도"
   ]
  },
  {
   "cell_type": "markdown",
   "metadata": {},
   "source": [
    "## Problem 1."
   ]
  },
  {
   "cell_type": "code",
   "execution_count": 2,
   "metadata": {},
   "outputs": [
    {
     "name": "stdout",
     "output_type": "stream",
     "text": [
      "Files already downloaded and verified\n",
      "tensor(8.3320e-09)\n"
     ]
    }
   ],
   "source": [
    "import torch.nn as nn\n",
    "from torch.utils.data import DataLoader\n",
    "import torch\n",
    "import torchvision\n",
    "import torchvision.transforms as transforms\n",
    "\n",
    "\n",
    "# Instantiate model with BN and load trained parameters\n",
    "class smallNetTrain(nn.Module) :\n",
    "    # CIFAR-10 data is 32*32 images with 3 RGB channels\n",
    "    def __init__(self, input_dim=3*32*32) :\n",
    "        super().__init__()\n",
    "\n",
    "        self.conv1 = nn.Sequential(\n",
    "                            nn.Conv2d(3, 16, kernel_size=3, padding=1),\n",
    "                            nn.BatchNorm2d(16),\n",
    "                            nn.ReLU()\n",
    "                            )      \n",
    "        self.conv2 = nn.Sequential(\n",
    "                            nn.Conv2d(16, 16, kernel_size=3, padding=1),\n",
    "                            nn.BatchNorm2d(16),\n",
    "                            nn.ReLU()\n",
    "                            ) \n",
    "        self.fc1 = nn.Sequential(\n",
    "                            nn.Linear(16*32*32, 32*32),\n",
    "                            nn.BatchNorm1d(32*32),\n",
    "                            nn.ReLU()\n",
    "                            )   \n",
    "        self.fc2 = nn.Sequential(\n",
    "                            nn.Linear(32*32, 10),\n",
    "                            nn.ReLU()\n",
    "                            )   \n",
    "    def forward(self, x) :\n",
    "        x = self.conv1(x)\n",
    "        x = self.conv2(x)\n",
    "        x = x.float().view(-1, 16*32*32)\n",
    "        x = self.fc1(x)\n",
    "        x = self.fc2(x)\n",
    "        \n",
    "        return x\n",
    "    \n",
    "model = smallNetTrain()\n",
    "model.load_state_dict(torch.load(\"./smallNetSaved\",map_location=torch.device('cpu')))\n",
    "\n",
    "\n",
    "# Instantiate model without BN\n",
    "class smallNetTest(nn.Module) :\n",
    "    # CIFAR-10 data is 32*32 images with 3 RGB channels\n",
    "    def __init__(self, input_dim=3*32*32) :\n",
    "        super().__init__()\n",
    "\n",
    "        self.conv1 = nn.Sequential(\n",
    "                            nn.Conv2d(3, 16, kernel_size=3, padding=1),\n",
    "                            nn.ReLU()\n",
    "                            )      \n",
    "        self.conv2 = nn.Sequential(\n",
    "                            nn.Conv2d(16, 16, kernel_size=3, padding=1),\n",
    "                            nn.ReLU()\n",
    "                            ) \n",
    "        self.fc1 = nn.Sequential(\n",
    "                            nn.Linear(16*32*32, 32*32),\n",
    "                            nn.ReLU()\n",
    "                            )   \n",
    "        self.fc2 = nn.Sequential(\n",
    "                            nn.Linear(32*32, 10),\n",
    "                            nn.ReLU()\n",
    "                            )   \n",
    "    def forward(self, x) :\n",
    "        x = self.conv1(x)\n",
    "        x = self.conv2(x)\n",
    "        x = x.float().view(-1, 16*32*32)\n",
    "        x = self.fc1(x)\n",
    "        x = self.fc2(x)\n",
    "        \n",
    "        return x\n",
    "    \n",
    "model_test = smallNetTest()\n",
    "\n",
    "\n",
    "\n",
    "# Initialize weights of model without BN\n",
    "\n",
    "conv1_bn_beta, conv1_bn_gamma = model.conv1[1].bias, model.conv1[1].weight\n",
    "conv1_bn_mean, conv1_bn_var = model.conv1[1].running_mean, model.conv1[1].running_var\n",
    "conv2_bn_beta, conv2_bn_gamma = model.conv2[1].bias, model.conv2[1].weight\n",
    "conv2_bn_mean, conv2_bn_var = model.conv2[1].running_mean, model.conv2[1].running_var\n",
    "fc1_bn_beta, fc1_bn_gamma = model.fc1[1].bias, model.fc1[1].weight\n",
    "fc1_bn_mean, fc1_bn_var = model.fc1[1].running_mean, model.fc1[1].running_var\n",
    "eps = 1e-05\n",
    "\n",
    "\n",
    "##################################################################################\n",
    "# Initialize the following parameters\n",
    "model_test.conv1[0].weight.data = model.conv1[0].weight * conv1_bn_gamma.reshape(-1,1,1,1) \\\n",
    "                                  / torch.sqrt(conv1_bn_var.reshape(-1,1,1,1) + eps)\n",
    "model_test.conv1[0].bias.data = conv1_bn_beta + conv1_bn_gamma * (model.conv1[0].bias - conv1_bn_mean) \\\n",
    "                                  / torch.sqrt(conv1_bn_var + eps)\n",
    "\n",
    "model_test.conv2[0].weight.data = model.conv2[0].weight * conv2_bn_gamma.reshape(-1,1,1,1) \\\n",
    "                                  / torch.sqrt(conv2_bn_var.reshape(-1,1,1,1) + eps)\n",
    "model_test.conv2[0].bias.data = conv2_bn_beta + conv2_bn_gamma*(model.conv2[0].bias - conv2_bn_mean) \\\n",
    "                                  / torch.sqrt(conv2_bn_var + eps)\n",
    "\n",
    "model_test.fc1[0].weight.data = fc1_bn_gamma.reshape(-1,1) * model.fc1[0].weight \\\n",
    "                                  / torch.sqrt(fc1_bn_var.reshape(-1,1) + eps)\n",
    "model_test.fc1[0].bias.data = fc1_bn_beta + fc1_bn_gamma * (model.fc1[0].bias - fc1_bn_mean) \\\n",
    "                                  / torch.sqrt(fc1_bn_var + eps)\n",
    "\n",
    "model_test.fc2[0].weight.data = model.fc2[0].weight\n",
    "model_test.fc2[0].bias.data = model.fc2[0].bias\n",
    "##################################################################################\n",
    "\n",
    "\n",
    "\n",
    "\n",
    "# Verify difference between model and model_test\n",
    "\n",
    "model.eval()  \n",
    "# model_test.eval()  # not necessary since model_test has no BN or dropout \n",
    "\n",
    "\n",
    "test_dataset = torchvision.datasets.CIFAR10(root='./cifar_10data/',\n",
    "                                train=False, \n",
    "                                transform=transforms.ToTensor(), download = True)\n",
    "test_loader = torch.utils.data.DataLoader(dataset=test_dataset, batch_size=100, shuffle=False)\n",
    "\n",
    "diff = []\n",
    "with torch.no_grad():\n",
    "    for images, _ in test_loader:\n",
    "        diff.append(torch.norm(model(images) - model_test(images))**2) \n",
    "        \n",
    "print(max(diff)) # If less than 1e-08, you got the right answer."
   ]
  },
  {
   "cell_type": "markdown",
   "metadata": {},
   "source": [
    "## Problem 2."
   ]
  },
  {
   "cell_type": "markdown",
   "metadata": {},
   "source": [
    "![prob2.png](prob2.png)"
   ]
  },
  {
   "cell_type": "markdown",
   "metadata": {},
   "source": [
    "## Problem 3."
   ]
  },
  {
   "cell_type": "markdown",
   "metadata": {},
   "source": [
    "![prob3](prob3.png)"
   ]
  },
  {
   "cell_type": "markdown",
   "metadata": {},
   "source": [
    "## Problem 4."
   ]
  },
  {
   "cell_type": "markdown",
   "metadata": {},
   "source": [
    "![prob4](prob4.png)"
   ]
  },
  {
   "cell_type": "markdown",
   "metadata": {},
   "source": [
    "## Problem 5."
   ]
  },
  {
   "cell_type": "markdown",
   "metadata": {},
   "source": [
    "![prob5](prob5.png)"
   ]
  },
  {
   "cell_type": "markdown",
   "metadata": {},
   "source": [
    "## Problem 6."
   ]
  },
  {
   "cell_type": "markdown",
   "metadata": {},
   "source": [
    "![prob6](prob6.png)"
   ]
  }
 ],
 "metadata": {
  "kernelspec": {
   "display_name": "Python 3",
   "language": "python",
   "name": "python3"
  },
  "language_info": {
   "codemirror_mode": {
    "name": "ipython",
    "version": 3
   },
   "file_extension": ".py",
   "mimetype": "text/x-python",
   "name": "python",
   "nbconvert_exporter": "python",
   "pygments_lexer": "ipython3",
   "version": "3.8.5"
  }
 },
 "nbformat": 4,
 "nbformat_minor": 4
}
