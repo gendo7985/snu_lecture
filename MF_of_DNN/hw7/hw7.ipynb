{
 "cells": [
  {
   "cell_type": "markdown",
   "metadata": {},
   "source": [
    "# Mathematical Foundations on Deep Neural Network\n",
    "## Homework #7\n",
    "### 2017-11362 박건도"
   ]
  },
  {
   "cell_type": "markdown",
   "metadata": {},
   "source": [
    "## Problem 1."
   ]
  },
  {
   "cell_type": "markdown",
   "metadata": {},
   "source": [
    "![prob1.png](prob1.png)"
   ]
  },
  {
   "cell_type": "markdown",
   "metadata": {},
   "source": [
    "## Problem 2."
   ]
  },
  {
   "cell_type": "markdown",
   "metadata": {},
   "source": [
    "![prob2.png](prob2.png)"
   ]
  },
  {
   "cell_type": "markdown",
   "metadata": {},
   "source": [
    "## Problem 3."
   ]
  },
  {
   "cell_type": "markdown",
   "metadata": {},
   "source": [
    "![prob3](prob3.png)"
   ]
  },
  {
   "cell_type": "markdown",
   "metadata": {},
   "source": [
    "## Problem 4."
   ]
  },
  {
   "cell_type": "markdown",
   "metadata": {},
   "source": [
    "![prob4](prob4.png)"
   ]
  },
  {
   "cell_type": "markdown",
   "metadata": {},
   "source": [
    "## Problem 5."
   ]
  },
  {
   "cell_type": "markdown",
   "metadata": {},
   "source": [
    "![prob5](prob5.png)"
   ]
  },
  {
   "cell_type": "markdown",
   "metadata": {},
   "source": [
    "## Problem 6."
   ]
  },
  {
   "cell_type": "markdown",
   "metadata": {},
   "source": [
    "![prob6](prob6.png)"
   ]
  },
  {
   "cell_type": "markdown",
   "metadata": {},
   "source": [
    "## Problem 7."
   ]
  },
  {
   "cell_type": "code",
   "execution_count": 3,
   "metadata": {},
   "outputs": [],
   "source": [
    "import torch\n",
    "import torch.nn as nn\n",
    "import torch.nn.functional as F\n",
    "from torch.utils.data import DataLoader\n",
    "from torchvision import datasets\n",
    "import torch.optim as optim\n",
    "from torchvision.transforms import transforms\n",
    "from torchvision.utils import save_image\n",
    "\n",
    "import numpy as np\n",
    "import matplotlib.pyplot as plt\n",
    "\n",
    "lr = 0.001\n",
    "batch_size = 100\n",
    "epochs = 10\n",
    "device = torch.device(\"cuda\" if torch.cuda.is_available() else \"cpu\")\n",
    "\n",
    "'''\n",
    "Step 1:\n",
    "'''\n",
    "\n",
    "# MNIST dataset\n",
    "dataset = datasets.MNIST(root='../data/mnist_data/',\n",
    "                               train=True, \n",
    "                               transform=transforms.ToTensor(),\n",
    "                               download=True)\n",
    "\n",
    "train_dataset, validation_dataset = torch.utils.data.random_split(dataset, [50000, 10000])\n",
    "\n",
    "test_dataset = datasets.MNIST(root='../data/mnist_data/',\n",
    "                              train=False, \n",
    "                              transform=transforms.ToTensor())\n",
    "\n",
    "# KMNIST dataset, only need test dataset\n",
    "anomaly_dataset = datasets.KMNIST(root='../data/kmnist_data/',\n",
    "                              train=False, \n",
    "                              transform=transforms.ToTensor(),\n",
    "                              download=True)\n",
    "\n",
    "# print(len(train_dataset))  # 50000\n",
    "# print(len(validation_dataset))  # 10000\n",
    "# print(len(test_dataset))  # 10000\n",
    "# print(len(anomaly_dataset))  # 10000"
   ]
  },
  {
   "cell_type": "code",
   "execution_count": 2,
   "metadata": {},
   "outputs": [],
   "source": [
    "'''\n",
    "Step 2: AutoEncoder\n",
    "'''\n",
    "# Define Encoder\n",
    "class Encoder(nn.Module):\n",
    "    def __init__(self):\n",
    "        super(Encoder, self).__init__()\n",
    "        self.fc1 = nn.Linear(784, 256)\n",
    "        self.fc2 = nn.Linear(256, 128)\n",
    "        self.fc3 = nn.Linear(128, 32)\n",
    "    def forward(self, x):\n",
    "        x = x.view(x.size(0), -1)\n",
    "        x = F.relu(self.fc1(x))\n",
    "        x = F.relu(self.fc2(x))\n",
    "        z = F.relu(self.fc3(x))\n",
    "        return z\n",
    "\n",
    "# Define Decoder\n",
    "class Decoder(nn.Module):\n",
    "    def __init__(self):\n",
    "        super(Decoder, self).__init__()\n",
    "        self.fc1 = nn.Linear(32, 128)\n",
    "        self.fc2 = nn.Linear(128, 256)\n",
    "        self.fc3 = nn.Linear(256, 784)\n",
    "    def forward(self, z):\n",
    "        z = F.relu(self.fc1(z))\n",
    "        z = F.relu(self.fc2(z))\n",
    "        x = torch.sigmoid(self.fc3(z))  # to make output's pixels are 0~1\n",
    "        x = x.view(x.size(0), 1, 28, 28) \n",
    "        return x"
   ]
  },
  {
   "cell_type": "code",
   "execution_count": 3,
   "metadata": {},
   "outputs": [],
   "source": [
    "'''\n",
    "Step 3: Instantiate model & define loss and optimizer\n",
    "'''\n",
    "enc = Encoder().to(device)\n",
    "dec = Decoder().to(device)\n",
    "loss_function = nn.MSELoss()\n",
    "optimizer = optim.Adam(list(enc.parameters()) + list(dec.parameters()), lr=lr)"
   ]
  },
  {
   "cell_type": "code",
   "execution_count": 4,
   "metadata": {},
   "outputs": [
    {
     "name": "stdout",
     "output_type": "stream",
     "text": [
      "0th epoch starting.\n",
      "1th epoch starting.ing batch #499 reconstruction loss: 0.029653\n",
      "2th epoch starting.ing batch #499 reconstruction loss: 0.022749\n",
      "3th epoch starting.ing batch #499 reconstruction loss: 0.019026\n",
      "4th epoch starting.ing batch #499 reconstruction loss: 0.014858\n",
      "5th epoch starting.ing batch #499 reconstruction loss: 0.014297\n",
      "6th epoch starting.ing batch #499 reconstruction loss: 0.012640\n",
      "7th epoch starting.ing batch #499 reconstruction loss: 0.012427\n",
      "8th epoch starting.ing batch #499 reconstruction loss: 0.011287\n",
      "9th epoch starting.ing batch #499 reconstruction loss: 0.010938\n",
      "Time ellapsed in training is: 33.234450817108154 loss: 0.010582\n"
     ]
    },
    {
     "data": {
      "text/plain": [
       "Decoder(\n",
       "  (fc1): Linear(in_features=32, out_features=128, bias=True)\n",
       "  (fc2): Linear(in_features=128, out_features=256, bias=True)\n",
       "  (fc3): Linear(in_features=256, out_features=784, bias=True)\n",
       ")"
      ]
     },
     "execution_count": 4,
     "metadata": {},
     "output_type": "execute_result"
    },
    {
     "data": {
      "image/png": "[encoded data removed]",
      "text/plain": [
       "<Figure size 432x288 with 1 Axes>"
      ]
     },
     "metadata": {
      "needs_background": "light"
     },
     "output_type": "display_data"
    }
   ],
   "source": [
    "'''\n",
    "Step 4: Training\n",
    "'''\n",
    "train_loader = torch.utils.data.DataLoader(dataset=train_dataset, batch_size=batch_size, shuffle=True)\n",
    "\n",
    "\n",
    "train_loss_list = []\n",
    "\n",
    "import time\n",
    "start = time.time()\n",
    "for epoch in range(epochs) :\n",
    "    print(\"{}th epoch starting.\".format(epoch))\n",
    "    enc.train()\n",
    "    dec.train()\n",
    "    for batch, (images, _) in enumerate(train_loader) :\n",
    "        images = images.to(device)\n",
    "        z = enc(images)\n",
    "        reconstructed_images = dec(z)\n",
    "        \n",
    "        optimizer.zero_grad()\n",
    "        train_loss = loss_function(images, reconstructed_images)\n",
    "        train_loss.backward()\n",
    "        train_loss_list.append(train_loss.item())\n",
    "\n",
    "        optimizer.step()\n",
    "\n",
    "        print(f\"[Epoch {epoch:3d}] Processing batch #{batch:3d} reconstruction loss: {train_loss.item():.6f}\", end='\\r')\n",
    "end = time.time()\n",
    "print(\"Time ellapsed in training is: {}\".format(end - start))\n",
    "\n",
    "# plotting train loss\n",
    "plt.plot(range(1,len(train_loss_list)+1), train_loss_list, 'r', label='Training loss')\n",
    "plt.title('Training loss')\n",
    "plt.xlabel('Iterations')\n",
    "plt.ylabel('Loss')\n",
    "plt.legend()\n",
    "plt.savefig('loss.png')\n",
    "\n",
    "enc.eval()\n",
    "dec.eval()"
   ]
  },
  {
   "cell_type": "code",
   "execution_count": 5,
   "metadata": {},
   "outputs": [
    {
     "name": "stdout",
     "output_type": "stream",
     "text": [
      "threshold:  22.62565851211548\n"
     ]
    }
   ],
   "source": [
    "'''\n",
    "Step 5: Calculate standard deviation by using validation set\n",
    "'''\n",
    "validation_loader = torch.utils.data.DataLoader(dataset=validation_dataset, batch_size=batch_size)\n",
    "\n",
    "scores = []\n",
    "\n",
    "for images, _ in validation_loader:\n",
    "    images = images.to(device)\n",
    "    z = enc(images)\n",
    "    recon = dec(z)\n",
    "    test = (images - recon)**2\n",
    "    score = ((images - recon)**2).sum((1,2,3))\n",
    "    scores.append(score.cpu().detach().numpy())\n",
    "mean = np.mean(scores)\n",
    "std = np.std(scores)\n",
    "\n",
    "threshold = mean + 3 * std\n",
    "print(\"threshold: \", threshold)\n"
   ]
  },
  {
   "cell_type": "code",
   "execution_count": 6,
   "metadata": {},
   "outputs": [
    {
     "name": "stdout",
     "output_type": "stream",
     "text": [
      "anomaly: 108, type I error: 1.08%\n"
     ]
    }
   ],
   "source": [
    "'''\n",
    "Step 6: Anomaly detection (mnist)\n",
    "'''\n",
    "test_loader = torch.utils.data.DataLoader(dataset=test_dataset, batch_size=batch_size)\n",
    "\n",
    "anomaly, n = 0, 0\n",
    "\n",
    "for images, _ in test_loader:\n",
    "    images = images.to(device)\n",
    "    n += images.shape[0]\n",
    "    z = enc(images)\n",
    "    recon = dec(z)\n",
    "    score = ((images - recon)**2).sum((1,2,3))\n",
    "    anomaly += torch.sum(score > threshold)\n",
    "print(f'anomaly: {anomaly.item()}, type I error: {anomaly / n * 100:.2f}%')"
   ]
  },
  {
   "cell_type": "code",
   "execution_count": 7,
   "metadata": {},
   "outputs": [
    {
     "name": "stdout",
     "output_type": "stream",
     "text": [
      "anomaly: 9756, type II error: 2.44%\n"
     ]
    }
   ],
   "source": [
    "'''\n",
    "Step 7: Anomaly detection (kmnist)\n",
    "'''\n",
    "anomaly_loader = torch.utils.data.DataLoader(dataset=anomaly_dataset, batch_size=batch_size)\n",
    "\n",
    "anomaly, n = 0, 0\n",
    "\n",
    "for images, _ in anomaly_loader:\n",
    "    images = images.to(device)\n",
    "    n += images.shape[0]\n",
    "    z = enc(images)\n",
    "    recon = dec(z)\n",
    "    score = ((images - recon)**2).sum((1,2,3))\n",
    "    anomaly += torch.sum(score > threshold)\n",
    "print(f'anomaly: {anomaly.item()}, type II error: {100 - anomaly / n * 100:.2f}%')"
   ]
  }
 ],
 "metadata": {
  "kernelspec": {
   "display_name": "Python 3",
   "language": "python",
   "name": "python3"
  },
  "language_info": {
   "codemirror_mode": {
    "name": "ipython",
    "version": 3
   },
   "file_extension": ".py",
   "mimetype": "text/x-python",
   "name": "python",
   "nbconvert_exporter": "python",
   "pygments_lexer": "ipython3",
   "version": "3.8.5"
  }
 },
 "nbformat": 4,
 "nbformat_minor": 4
}
