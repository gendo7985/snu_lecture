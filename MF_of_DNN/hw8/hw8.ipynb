{
 "cells": [
  {
   "cell_type": "markdown",
   "metadata": {},
   "source": [
    "# Mathematical Foundations on Deep Neural Network\n",
    "## Homework #8\n",
    "### 2017-11362 박건도"
   ]
  },
  {
   "cell_type": "markdown",
   "metadata": {},
   "source": [
    "## Problem 1."
   ]
  },
  {
   "cell_type": "code",
   "execution_count": 1,
   "metadata": {},
   "outputs": [],
   "source": [
    "import torch\n",
    "import torch.utils.data as data \n",
    "import torch.nn as nn\n",
    "from torch.distributions.normal import Normal \n",
    "from torch.distributions.uniform import Uniform\n",
    "import numpy as np\n",
    "import matplotlib.pyplot as plt\n",
    "%matplotlib inline\n",
    "\n",
    "epochs = 500\n",
    "learning_rate = 5e-3\n",
    "batch_size = 128\n",
    "n_components = 5 # the number of kernel\n",
    "target_distribution = Normal(0.0, 1.0)"
   ]
  },
  {
   "cell_type": "code",
   "execution_count": 2,
   "metadata": {},
   "outputs": [],
   "source": [
    "#####################################\n",
    "# STEP 1: Implement 1-d Flow model  #\n",
    "# Model is mixture of Gaussian CDFs #\n",
    "#####################################\n",
    "\n",
    "class Flow1d(nn.Module):\n",
    "    def __init__(self, n_components):\n",
    "        super(Flow1d, self).__init__()\n",
    "        self.mus = nn.Parameter(torch.randn(n_components), requires_grad=True)\n",
    "        self.log_sigmas = nn.Parameter(torch.zeros(n_components), requires_grad=True)\n",
    "        self.weight_logs = nn.Parameter(torch.zeros(n_components), requires_grad=True)\n",
    "\n",
    "    def forward(self, x):\n",
    "        x = x.view(-1,1)\n",
    "        weights = self.weight_logs.exp().view(1,-1)\n",
    "        distribution = Normal(self.mus, self.log_sigmas.exp())\n",
    "        z = (weights * (distribution.cdf(x) - 0.5)).sum(dim=1)\n",
    "        dz_by_dx = (distribution.log_prob(x).exp() * weights).sum(dim=1)\n",
    "        return z, dz_by_dx"
   ]
  },
  {
   "cell_type": "code",
   "execution_count": 3,
   "metadata": {},
   "outputs": [],
   "source": [
    "################################################\n",
    "# STEP 2: Create Dataset and Create Dataloader #\n",
    "################################################ \n",
    "\n",
    "def mixture_of_gaussians(num, mu_var=(-1,0.25, 0.2,0.25, 1.5,0.25)):\n",
    "    n = num // 3\n",
    "    m1,s1,m2,s2,m3,s3 = mu_var\n",
    "    gaussian1 = np.random.normal(loc=m1, scale=s1, size=(n,))\n",
    "    gaussian2 = np.random.normal(loc=m2, scale=s2, size=(n,))\n",
    "    gaussian3 = np.random.normal(loc=m3, scale=s3, size=(num-n,))\n",
    "    return np.concatenate([gaussian1, gaussian2, gaussian3])\n",
    "\n",
    "class MyDataset(data.Dataset):\n",
    "    def __init__(self, array):\n",
    "        super().__init__()\n",
    "        self.array = array\n",
    "\n",
    "    def __len__(self):\n",
    "        return len(self.array)\n",
    "\n",
    "    def __getitem__(self, index):\n",
    "        return self.array[index]"
   ]
  },
  {
   "cell_type": "code",
   "execution_count": 4,
   "metadata": {},
   "outputs": [],
   "source": [
    "################################\n",
    "# STEP 3: Define Loss Function #\n",
    "################################\n",
    "\n",
    "def loss_function(target_distribution, z, dz_by_dx):\n",
    "    # log(p_Z(z)) = target_distribution.log_prob(z)\n",
    "    # log(dz/dx) = dz_by_dx.log() (flow is defined so that dz/dx>0)\n",
    "    log_likelihood = target_distribution.log_prob(z) + dz_by_dx.log()\n",
    "    return -log_likelihood.mean()  #flip sign, and sum of data X_1,...X_N"
   ]
  },
  {
   "cell_type": "code",
   "execution_count": 5,
   "metadata": {},
   "outputs": [],
   "source": [
    "###########################\n",
    "# STEP 4: Train the model #\n",
    "########################### \n",
    "\n",
    "# create dataloader\n",
    "n_train, n_test = 5000, 1000\n",
    "train_data = mixture_of_gaussians(n_train)\n",
    "test_data = mixture_of_gaussians(n_test)\n",
    "\n",
    "train_loader = data.DataLoader(MyDataset(train_data), batch_size=batch_size, shuffle=True)\n",
    "test_loader = data.DataLoader(MyDataset(test_data), batch_size=batch_size, shuffle=True)\n",
    "\n",
    "# create model\n",
    "flow = Flow1d(n_components)\n",
    "optimizer = torch.optim.Adam(flow.parameters(), lr=learning_rate)\n",
    "\n",
    "train_losses, test_losses = [], []\n",
    "\n",
    "for epoch in range(epochs):\n",
    "    # train\n",
    "    # flow.train()\n",
    "    mean_loss = 0\n",
    "    for i, x in enumerate(train_loader):\n",
    "        z, dz_by_dx = flow(x)\n",
    "        loss = loss_function(target_distribution, z, dz_by_dx)\n",
    "        optimizer.zero_grad()\n",
    "        loss.backward()\n",
    "        optimizer.step()\n",
    "\n",
    "        mean_loss += loss.item()\n",
    "    train_losses.append(mean_loss/(i+1))\n",
    "\n",
    "    # test\n",
    "    flow.eval()\n",
    "    mean_loss = 0\n",
    "    for i, x in enumerate(test_loader):\n",
    "        z, dz_by_dx = flow(x)\n",
    "        loss = loss_function(target_distribution, z, dz_by_dx)\n",
    "\n",
    "        mean_loss += loss.item()\n",
    "    test_losses.append(mean_loss/(i+1))"
   ]
  },
  {
   "cell_type": "code",
   "execution_count": 6,
   "metadata": {},
   "outputs": [
    {
     "data": {
      "image/png": "[encoded data removed]",
      "text/plain": [
       "<Figure size 864x288 with 2 Axes>"
      ]
     },
     "metadata": {
      "needs_background": "light"
     },
     "output_type": "display_data"
    }
   ],
   "source": [
    "_, axes = plt.subplots(1,2, figsize=(12,4))\n",
    "_ = axes[0].hist(train_loader.dataset.array, bins=50)\n",
    "_ = axes[1].hist(test_loader.dataset.array, bins=50)\n",
    "_ = axes[0].set_title('Training data')\n",
    "_ = axes[1].set_title('Test data')"
   ]
  },
  {
   "cell_type": "code",
   "execution_count": 7,
   "metadata": {},
   "outputs": [
    {
     "data": {
      "text/plain": [
       "<matplotlib.legend.Legend at 0x7f2e35276d30>"
      ]
     },
     "execution_count": 7,
     "metadata": {},
     "output_type": "execute_result"
    },
    {
     "data": {
      "image/png": "[encoded data removed]",
      "text/plain": [
       "<Figure size 432x288 with 1 Axes>"
      ]
     },
     "metadata": {
      "needs_background": "light"
     },
     "output_type": "display_data"
    }
   ],
   "source": [
    "plt.plot(train_losses, label='train_loss')\n",
    "plt.plot(test_losses, label='test_loss')\n",
    "plt.legend()"
   ]
  },
  {
   "cell_type": "code",
   "execution_count": 8,
   "metadata": {},
   "outputs": [
    {
     "data": {
      "image/png": "[encoded data removed]",
      "text/plain": [
       "<Figure size 864x288 with 2 Axes>"
      ]
     },
     "metadata": {
      "needs_background": "light"
     },
     "output_type": "display_data"
    }
   ],
   "source": [
    "x = np.linspace(-3,3,1000)\n",
    "with torch.no_grad():\n",
    "    z, dz_by_dx = flow(torch.FloatTensor(x))\n",
    "    px = (target_distribution.log_prob(z) + dz_by_dx.log()).exp().cpu().numpy()\n",
    "    \n",
    "_, axes = plt.subplots(1,2, figsize=(12,4))\n",
    "_ = axes[0].plot(x,px)\n",
    "_ = axes[0].set_title('Learned distribution')\n",
    "\n",
    "_ = axes[1].plot(x,z)\n",
    "_ = axes[1].set_title('x -> z')"
   ]
  },
  {
   "cell_type": "code",
   "execution_count": 9,
   "metadata": {},
   "outputs": [
    {
     "data": {
      "image/png": "[encoded data removed]",
      "text/plain": [
       "<Figure size 432x288 with 1 Axes>"
      ]
     },
     "metadata": {
      "needs_background": "light"
     },
     "output_type": "display_data"
    }
   ],
   "source": [
    "with torch.no_grad():\n",
    "    z, _ = flow(torch.FloatTensor(train_loader.dataset.array))\n",
    "    \n",
    "_ = plt.hist(np.array(z), bins=50)"
   ]
  },
  {
   "cell_type": "code",
   "execution_count": 10,
   "metadata": {},
   "outputs": [
    {
     "data": {
      "image/png": "[encoded data removed]",
      "text/plain": [
       "<Figure size 432x288 with 1 Axes>"
      ]
     },
     "metadata": {
      "needs_background": "light"
     },
     "output_type": "display_data"
    }
   ],
   "source": [
    "# sampling\n",
    "N = 5000\n",
    "z = torch.rand(N)\n",
    "x_low = torch.full((N,), -3.)\n",
    "x_high = torch.full((N,), 3.)\n",
    "\n",
    "#Perform bisection\n",
    "with torch.no_grad():\n",
    "    for _ in range(30):\n",
    "        m = (x_low+x_high)/2\n",
    "        f,_ = flow(m)\n",
    "        x_high[f>=z] = m[f>=z]\n",
    "        x_low[f<z] = m[f<z]\n",
    "    x = (x_low+x_high)/2\n",
    "\n",
    "_ = plt.hist(np.array(x), bins=50)"
   ]
  },
  {
   "cell_type": "markdown",
   "metadata": {},
   "source": [
    "## Problem 2."
   ]
  },
  {
   "cell_type": "markdown",
   "metadata": {},
   "source": [
    "![prob2.png](prob2.png)"
   ]
  },
  {
   "cell_type": "markdown",
   "metadata": {},
   "source": [
    "## Problem 3."
   ]
  },
  {
   "cell_type": "code",
   "execution_count": 11,
   "metadata": {},
   "outputs": [
    {
     "name": "stdout",
     "output_type": "stream",
     "text": [
      "[1, 6, 5, 2, 4, 3]\n",
      "p(1) = 1, p^-1(p(1)) = p^-1(1) = 1\n",
      "p(2) = 4, p^-1(p(2)) = p^-1(4) = 2\n",
      "p(3) = 6, p^-1(p(3)) = p^-1(6) = 3\n",
      "p(4) = 5, p^-1(p(4)) = p^-1(5) = 4\n",
      "p(5) = 3, p^-1(p(5)) = p^-1(3) = 5\n",
      "p(6) = 2, p^-1(p(6)) = p^-1(2) = 6\n"
     ]
    }
   ],
   "source": [
    "def inv_perm(perm):\n",
    "    ans = [0] * len(perm)\n",
    "    for (n, i) in enumerate(perm):\n",
    "        ans[i - 1] = n + 1\n",
    "    return ans\n",
    "\n",
    "perm = [1,4,6,5,3,2]\n",
    "print(inv_perm(perm))\n",
    "for i in range(1, 7):\n",
    "    print(f'p({i}) = {perm[i-1]}, p^-1(p({i})) = p^-1({perm[i-1]}) = {inv_perm(perm)[perm[i-1]-1]}')"
   ]
  },
  {
   "cell_type": "markdown",
   "metadata": {},
   "source": [
    "## Problem 4."
   ]
  },
  {
   "cell_type": "markdown",
   "metadata": {},
   "source": [
    "![prob4](prob4.png)"
   ]
  },
  {
   "cell_type": "markdown",
   "metadata": {},
   "source": [
    "## Problem 5."
   ]
  },
  {
   "cell_type": "markdown",
   "metadata": {},
   "source": [
    "![prob5](prob5.png)"
   ]
  },
  {
   "cell_type": "markdown",
   "metadata": {},
   "source": [
    "## Problem 6."
   ]
  },
  {
   "cell_type": "code",
   "execution_count": 12,
   "metadata": {},
   "outputs": [
    {
     "name": "stdout",
     "output_type": "stream",
     "text": [
      "2.519068918962955e-06\n"
     ]
    }
   ],
   "source": [
    "N = 3000\n",
    "K = 600\n",
    "p, q = 18/37, 0.55\n",
    "def B_samp(n, p):\n",
    "    return (torch.rand(n) < p).numpy()\n",
    "\n",
    "def f_over_g(x, p, q):\n",
    "    x_sum = np.sum(x)\n",
    "    return np.exp(x_sum * np.log(p/q) + (len(x) - x_sum) * np.log((1-p)/(1-q)))\n",
    "\n",
    "def win(x):\n",
    "    cumsum = 100\n",
    "    for i in range(len(x)):\n",
    "        cumsum += 2 * x[i] - 1\n",
    "        if cumsum <= 0:\n",
    "            return 0, i + 1\n",
    "        elif cumsum >= 200:\n",
    "            return 1, i + 1\n",
    "    return 0, i + 1\n",
    "\n",
    "total = 0\n",
    "for _ in range(N):\n",
    "    x = B_samp(K, q)\n",
    "    prob, ind = win(x)\n",
    "    imp_samp = prob * f_over_g(x, p, q)\n",
    "    total += imp_samp\n",
    "\n",
    "print(total / N)"
   ]
  },
  {
   "cell_type": "markdown",
   "metadata": {},
   "source": [
    "## Problem 7."
   ]
  },
  {
   "cell_type": "markdown",
   "metadata": {},
   "source": [
    "#### (a) the log-derivative trick"
   ]
  },
  {
   "cell_type": "code",
   "execution_count": 13,
   "metadata": {},
   "outputs": [
    {
     "data": {
      "image/png": "[encoded data removed]",
      "text/plain": [
       "<Figure size 432x288 with 1 Axes>"
      ]
     },
     "metadata": {
      "needs_background": "light"
     },
     "output_type": "display_data"
    },
    {
     "name": "stdout",
     "output_type": "stream",
     "text": [
      "mu: 0.44403578860227777, sigma: 0.6089689065449186\n"
     ]
    }
   ],
   "source": [
    "alpha = 5e-4\n",
    "theta = np.zeros(2) # (mu, tau), exp(tau) = sigma\n",
    "def f(theta):\n",
    "    x = np.exp(theta[1]) * np.random.randn(10000) + theta[0]\n",
    "    E = np.sum(x * np.sin(x)) / 10000\n",
    "    return E + 0.5 * (theta[0] - 1) ** 2 + np.exp(theta[1]) - theta[1]\n",
    "\n",
    "def grad(theta):\n",
    "    mu, sigma = theta[0], np.exp(theta[1])\n",
    "    x = sigma * np.random.randn(10000) + mu\n",
    "    grad_mu = np.sum((x - mu) / sigma ** 2 * x * np.sin(x)) / 10000 + mu - 1\n",
    "    grad_tau = np.sum(((x - mu) ** 2 / sigma ** 2 - 1) * x * np.sin(x)) / 10000 + sigma - 1\n",
    "    return np.array([grad_mu, grad_tau])\n",
    "\n",
    "f_val = []\n",
    "K = 10000\n",
    "for _ in range(K):\n",
    "    theta = theta - alpha * grad(theta)\n",
    "    f_val.append(f(theta))\n",
    "\n",
    "plt.rc('text', usetex=True)\n",
    "plt.rc('font', family='serif')\n",
    "plt.plot(list(range(K)),f_val, color = \"green\", label = \"Stochastic Gradient Descent\")\n",
    "plt.xlabel('Iterations')\n",
    "plt.ylabel('f')\n",
    "plt.legend()\n",
    "plt.show()\n",
    "print(f'mu: {theta[0]}, sigma: {np.exp(theta[1])}')"
   ]
  },
  {
   "cell_type": "markdown",
   "metadata": {},
   "source": [
    "#### (b) the reparameterization trick"
   ]
  },
  {
   "cell_type": "code",
   "execution_count": 14,
   "metadata": {},
   "outputs": [
    {
     "data": {
      "image/png": "[encoded data removed]",
      "text/plain": [
       "<Figure size 432x288 with 1 Axes>"
      ]
     },
     "metadata": {
      "needs_background": "light"
     },
     "output_type": "display_data"
    },
    {
     "name": "stdout",
     "output_type": "stream",
     "text": [
      "mu: 0.44390201993186706, sigma: 0.6087760410307997\n"
     ]
    }
   ],
   "source": [
    "alpha = 5e-4\n",
    "theta = np.zeros(2) # (mu, tau), exp(tau) = sigma\n",
    "def f(theta):\n",
    "    x = np.exp(theta[1]) * np.random.randn(10000) + theta[0]\n",
    "    E = np.sum(x * np.sin(x)) / 10000\n",
    "    return E + 0.5 * (theta[0] - 1) ** 2 + np.exp(theta[1]) - theta[1]\n",
    "\n",
    "def grad(theta):\n",
    "    mu, sigma = theta[0], np.exp(theta[1])\n",
    "    eps = np.random.randn(10000)\n",
    "    x = sigma * eps + mu\n",
    "    grad_mu = np.sum(np.sin(x) + x * np.cos(x)) / 10000 + mu - 1\n",
    "    grad_tau = np.sum(sigma * eps * (np.sin(x) + x * np.cos(x))) / 10000 + sigma - 1\n",
    "    return np.array([grad_mu, grad_tau])\n",
    "\n",
    "f_val = []\n",
    "K = 10000\n",
    "for _ in range(K):\n",
    "    theta = theta - alpha * grad(theta)\n",
    "    f_val.append(f(theta))\n",
    "\n",
    "plt.rc('text', usetex=True)\n",
    "plt.rc('font', family='serif')\n",
    "plt.plot(list(range(K)),f_val, color = \"green\", label = \"Stochastic Gradient Descent\")\n",
    "plt.xlabel('Iterations')\n",
    "plt.ylabel('f')\n",
    "plt.legend()\n",
    "plt.show()\n",
    "print(f'mu: {theta[0]}, sigma: {np.exp(theta[1])}')"
   ]
  },
  {
   "cell_type": "markdown",
   "metadata": {},
   "source": [
    "## Problem 8."
   ]
  },
  {
   "cell_type": "markdown",
   "metadata": {},
   "source": [
    "![prob8](prob8.png)"
   ]
  }
 ],
 "metadata": {
  "kernelspec": {
   "display_name": "Python 3",
   "language": "python",
   "name": "python3"
  },
  "language_info": {
   "codemirror_mode": {
    "name": "ipython",
    "version": 3
   },
   "file_extension": ".py",
   "mimetype": "text/x-python",
   "name": "python",
   "nbconvert_exporter": "python",
   "pygments_lexer": "ipython3",
   "version": "3.8.5"
  }
 },
 "nbformat": 4,
 "nbformat_minor": 4
}
